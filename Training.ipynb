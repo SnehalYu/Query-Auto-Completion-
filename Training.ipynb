{
  "nbformat": 4,
  "nbformat_minor": 0,
  "metadata": {
    "colab": {
      "provenance": [],
      "authorship_tag": "ABX9TyPCc72FBaEUFSJ4OwWY8KCC",
      "include_colab_link": true
    },
    "kernelspec": {
      "name": "python3",
      "display_name": "Python 3"
    },
    "language_info": {
      "name": "python"
    }
  },
  "cells": [
    {
      "cell_type": "markdown",
      "metadata": {
        "id": "view-in-github",
        "colab_type": "text"
      },
      "source": [
        "<a href=\"https://colab.research.google.com/github/SnehalYu/Query-Auto-Completion-/blob/main/Training.ipynb\" target=\"_parent\"><img src=\"https://colab.research.google.com/assets/colab-badge.svg\" alt=\"Open In Colab\"/></a>"
      ]
    },
    {
      "cell_type": "code",
      "source": [
        "#Training the model\n",
        "\n",
        "import numpy as np\n",
        "# Specify the file paths\n",
        "file_path1 = \"/content/qac_background.txt\"\n",
        "file_path2 = \"/content/qac_training.tsv\"\n",
        "file_path3 = \"/content/qac_training.tsv\"\n",
        "file_path4 = \"/content/qac_validation.tsv\"\n",
        "# Read the files\n",
        "with open(file_path1, 'r') as file:\n",
        "    content1 = file.read()\n",
        "\n",
        "with open(file_path2, 'r') as file:\n",
        "    content2 = file.read()\n",
        "\n",
        "with open(file_path3, 'r') as file:\n",
        "    content3 = file.read()\n",
        "\n",
        "with open(file_path4, 'r') as file:\n",
        "    content4 = file.read()\n",
        "\n",
        "# Combine the content\n",
        "trainingset = content1 + content2\n",
        "trainset = trainingset.lower()  # Convert to lowercase\n",
        "dataset=trainset+content3.lower()+content4.lower()\n",
        "# Limit the trainingset size\n",
        "#trainset = trainset[:50000]\n",
        "\n",
        "trainset=list(trainset)\n",
        "trainset.insert(0,'<s>')\n",
        "trainset.insert(0,'<s>')\n",
        "trainset.append('</s>')\n",
        "trainset.append('</s>')\n",
        "\n",
        "# Create a list of characters\n",
        "characters = sorted(set(dataset))\n",
        "characters.append('<s>')\n",
        "characters.append('</s>')\n",
        "char_index = {char: index for index, char in enumerate(characters)}\n",
        "\n",
        "#Count bigrams and trigrams\n",
        "dict_two = {}\n",
        "dict_three = {}\n",
        "trainsetcount = len(trainset)\n",
        "\n",
        "for i in range(trainsetcount - 1): # -1 modified to -3\n",
        "    if trainset[i]=='\\n':\n",
        "        pair_two = tuple(['\\n','</s>'])\n",
        "        pair_three = tuple(['\\n', '</s>', '</s>'])\n",
        "    elif trainset[i+1]=='\\n':\n",
        "        pair_two = tuple([trainset[i],'\\n'])\n",
        "        pair_three = tuple([trainset[i],'\\n', '</s>'])\n",
        "    elif i>0 and trainset[i-1] =='\\n':\n",
        "        pair_two = tuple(['<s>','<s>'])\n",
        "        pair_three = tuple(['<s>','<s>',trainset[i] ])\n",
        "    elif i>1 and trainset[i-2] =='\\n':\n",
        "        pair_two = tuple(['<s>', trainset[i-1]])\n",
        "        pair_three = tuple(['<s>',trainset[i-1], trainset[i] ])\n",
        "    else:\n",
        "        pair_two = tuple(trainset[i:i + 2])\n",
        "        pair_three = tuple(trainset[i:i + 3])\n",
        "\n",
        "    ## pair_two, pair_three declared above\n",
        "    if pair_two in dict_two:\n",
        "        dict_two[pair_two] += 1\n",
        "    else:\n",
        "        dict_two[pair_two] = 1\n",
        "    if pair_three in dict_three:\n",
        "        dict_three[pair_three] += 1\n",
        "    else:\n",
        "        dict_three[pair_three] = 1\n",
        "dict_bi_to_num={value: index for index, value in enumerate(dict_two)}\n",
        "dict_num_to_bi={index: value for index, value in enumerate(dict_two)}\n",
        "\n",
        "# Create arrays for bigram and trigram probabilities\n",
        "num_bigrams = len(dict_two)\n",
        "num_chars = len(characters)\n",
        "\n",
        "table = np.zeros((num_bigrams, num_chars))\n",
        "\n",
        "for i, bigram in enumerate(dict_two):\n",
        "    for j, char in enumerate(characters):\n",
        "        trigram = (bigram) + (char,)\n",
        "        if trigram in dict_three:\n",
        "            num = dict_three[trigram] + 1\n",
        "        else:\n",
        "            num = 1\n",
        "        denom = dict_two[bigram] + num_chars\n",
        "        table[i, j] = num / denom # row:bigram, col:trigram\n",
        "\n"
      ],
      "metadata": {
        "id": "jHCcHFHnfDGL"
      },
      "execution_count": null,
      "outputs": []
    },
    {
      "cell_type": "code",
      "execution_count": null,
      "metadata": {
        "id": "q5T0xJAkgRwi"
      },
      "outputs": [],
      "source": []
    }
  ]
}